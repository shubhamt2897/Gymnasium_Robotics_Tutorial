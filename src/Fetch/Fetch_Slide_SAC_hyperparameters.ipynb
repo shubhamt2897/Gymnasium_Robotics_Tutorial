{
  "nbformat": 4,
  "nbformat_minor": 0,
  "metadata": {
    "colab": {
      "provenance": [],
      "gpuType": "T4",
      "authorship_tag": "ABX9TyOtEO69ibO0/ksrLS7pUPF5",
      "include_colab_link": true
    },
    "kernelspec": {
      "name": "python3",
      "display_name": "Python 3"
    },
    "language_info": {
      "name": "python"
    },
    "accelerator": "GPU"
  },
  "cells": [
    {
      "cell_type": "markdown",
      "metadata": {
        "id": "view-in-github",
        "colab_type": "text"
      },
      "source": [
        "<a href=\"https://colab.research.google.com/github/shubhamt2897/Gymnasium_Robotics_Tutorial/blob/main/src/Fetch/Fetch_Slide_SAC_hyperparameters.ipynb\" target=\"_parent\"><img src=\"https://colab.research.google.com/assets/colab-badge.svg\" alt=\"Open In Colab\"/></a>"
      ]
    },
    {
      "cell_type": "code",
      "execution_count": null,
      "metadata": {
        "id": "TW0VhjIdMpDt"
      },
      "outputs": [],
      "source": [
        "# 1. Pin NumPy to our standard, stable version FIRST for maximum compatibility\n",
        "!pip install \"numpy==1.26.4\"\n",
        "\n",
        "# 2. Install Optuna for tuning and all our other required libraries\n",
        "!pip install -U gymnasium gymnasium-robotics stable-baselines3[\"extra\"] mujoco optuna plotly"
      ]
    },
    {
      "cell_type": "code",
      "source": [
        "# Import all necessary libraries\n",
        "import gymnasium as gym\n",
        "import gymnasium_robotics\n",
        "from stable_baselines3 import SAC, HerReplayBuffer\n",
        "import optuna\n",
        "import torch as th\n",
        "import numpy as np\n",
        "from stable_baselines3.common.callbacks import BaseCallback\n",
        "from stable_baselines3.common.monitor import Monitor\n",
        "from stable_baselines3.common.vec_env import DummyVecEnv\n",
        "\n",
        "# --- Configuration ---\n",
        "ENV_ID = \"FetchSlide-v3\"\n",
        "# Let's increase the number of trials since we have a GPU\n",
        "N_TRIALS = 50\n",
        "# Training timesteps for EACH trial. Keep this relatively low to finish faster.\n",
        "N_TIMESTEPS = 25000\n",
        "# Number of episodes to evaluate EACH trained model\n",
        "N_EVAL_EPISODES = 25\n",
        "\n",
        "\n",
        "# --- The Objective Function for Optuna ---\n",
        "def objective(trial: optuna.Trial) -> float:\n",
        "    \"\"\"\n",
        "    Trains and evaluates an SAC model with hyperparameters suggested by Optuna.\n",
        "    \"\"\"\n",
        "    print(f\"\\n--- Starting Trial #{trial.number} ---\")\n",
        "\n",
        "    # 1. Suggest Hyperparameters\n",
        "    learning_rate = trial.suggest_float(\"learning_rate\", 1e-5, 1e-3, log=True)\n",
        "    net_arch_str = trial.suggest_categorical(\"net_arch\", [\"small\", \"medium\", \"big\"])\n",
        "    net_arch_map = {\"small\": [64, 64], \"medium\": [128, 128], \"big\": [256, 256]}\n",
        "    net_arch = net_arch_map[net_arch_str]\n",
        "    policy_kwargs = dict(net_arch=net_arch)\n",
        "\n",
        "    # 2. Create and Train the Model\n",
        "    train_env = gym.make(ENV_ID)\n",
        "    replay_buffer_class = HerReplayBuffer\n",
        "    replay_buffer_kwargs = dict(n_sampled_goal=4, goal_selection_strategy=\"future\")\n",
        "\n",
        "    model = SAC(\n",
        "        \"MultiInputPolicy\",\n",
        "        train_env,\n",
        "        learning_rate=learning_rate,\n",
        "        policy_kwargs=policy_kwargs,\n",
        "        replay_buffer_class=replay_buffer_class,\n",
        "        replay_buffer_kwargs=replay_buffer_kwargs,\n",
        "        verbose=0,\n",
        "        device=\"cuda\"\n",
        "    )\n",
        "\n",
        "    model.learn(total_timesteps=N_TIMESTEPS)\n",
        "\n",
        "    # 3. Evaluate the Model\n",
        "    eval_env = gym.make(ENV_ID)\n",
        "    successful_episodes = 0\n",
        "    for _ in range(N_EVAL_EPISODES):\n",
        "        obs, _ = eval_env.reset()\n",
        "        done = False\n",
        "        while not done:\n",
        "            action, _ = model.predict(obs, deterministic=True)\n",
        "            obs, _, terminated, truncated, info = eval_env.step(action)\n",
        "            done = terminated or truncated\n",
        "            if done and info.get('is_success'):\n",
        "                successful_episodes += 1\n",
        "\n",
        "    eval_env.close()\n",
        "    success_rate = successful_episodes / N_EVAL_EPISODES\n",
        "    print(f\"Trial #{trial.number} Finished. Success Rate: {success_rate:.2f}\")\n",
        "\n",
        "    # 4. Return the score\n",
        "    return success_rate\n",
        "\n",
        "# --- Start the Tuning Process ---\n",
        "# Create the study and start the optimization\n",
        "study = optuna.create_study(direction=\"maximize\")\n",
        "# We can set a timeout to avoid exceeding Colab's limits, e.g., 2 hours (7200s)\n",
        "study.optimize(objective, n_trials=N_TRIALS, timeout=7200)\n",
        "\n",
        "# --- Print the Best Results ---\n",
        "print(\"\\n--- Hyperparameter Tuning Complete ---\")\n",
        "print(f\"Number of finished trials: {len(study.trials)}\")\n",
        "print(\"Best trial:\")\n",
        "best_trial = study.best_trial\n",
        "print(f\"  Value (Success Rate): {best_trial.value:.4f}\")\n",
        "print(\"  Params: \")\n",
        "for key, value in best_trial.params.items():\n",
        "    print(f\"    {key}: {value}\")"
      ],
      "metadata": {
        "id": "ZlBkQhl2M5ev"
      },
      "execution_count": null,
      "outputs": []
    },
    {
      "cell_type": "code",
      "source": [
        "# --- Visualize the Results ---\n",
        "# Requires the 'plotly' library we installed earlier\n",
        "\n",
        "# Show the optimization history\n",
        "fig1 = optuna.visualization.plot_optimization_history(study)\n",
        "fig1.show()\n",
        "\n",
        "# Show the parameter importance\n",
        "fig2 = optuna.visualization.plot_param_importances(study)\n",
        "fig2.show()\n",
        "\n",
        "# Show slice plots to see how each parameter affects the outcome\n",
        "fig3 = optuna.visualization.plot_slice(study, params=[\"learning_rate\", \"net_arch\"])\n",
        "fig3.show()"
      ],
      "metadata": {
        "collapsed": true,
        "id": "fHUGSSEQNDvn"
      },
      "execution_count": null,
      "outputs": []
    }
  ]
}